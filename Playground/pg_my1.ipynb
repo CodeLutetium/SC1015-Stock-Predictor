{
 "cells": [
  {
   "cell_type": "code",
   "execution_count": 38,
   "metadata": {},
   "outputs": [],
   "source": [
    "from polygon import RESTClient\n",
    "import datetime\n",
    "import numpy as np\n",
    "import pandas as pd\n",
    "import seaborn as sb\n",
    "import matplotlib.pyplot as plt # we only need pyplot\n",
    "import json\n",
    "sb.set()"
   ]
  },
  {
   "cell_type": "code",
   "execution_count": 39,
   "metadata": {},
   "outputs": [],
   "source": [
    "client = RESTClient(api_key=\"YlxBfjucWZ1SpppMWto31uLWNV1Zf9pH\")"
   ]
  },
  {
   "cell_type": "code",
   "execution_count": 43,
   "metadata": {},
   "outputs": [
    {
     "ename": "ValueError",
     "evalue": "no types given",
     "output_type": "error",
     "traceback": [
      "\u001b[0;31m---------------------------------------------------------------------------\u001b[0m",
      "\u001b[0;31mValueError\u001b[0m                                Traceback (most recent call last)",
      "Cell \u001b[0;32mIn[43], line 18\u001b[0m\n\u001b[1;32m      7\u001b[0m \u001b[39mfor\u001b[39;00m bar \u001b[39min\u001b[39;00m bars:\n\u001b[1;32m      8\u001b[0m     agg \u001b[39m=\u001b[39m {\n\u001b[1;32m      9\u001b[0m         \u001b[39m'\u001b[39m\u001b[39mopen\u001b[39m\u001b[39m'\u001b[39m: bar\u001b[39m.\u001b[39mopen,\n\u001b[1;32m     10\u001b[0m         \u001b[39m'\u001b[39m\u001b[39mhigh\u001b[39m\u001b[39m'\u001b[39m: bar\u001b[39m.\u001b[39mhigh,\n\u001b[0;32m   (...)\u001b[0m\n\u001b[1;32m     16\u001b[0m         \u001b[39m'\u001b[39m\u001b[39mtransactions\u001b[39m\u001b[39m'\u001b[39m: bar\u001b[39m.\u001b[39mtransactions\n\u001b[1;32m     17\u001b[0m     }\n\u001b[0;32m---> 18\u001b[0m     pd\u001b[39m.\u001b[39;49mconcat([df, pd\u001b[39m.\u001b[39;49mDataFrame([agg])], axis\u001b[39m=\u001b[39;49m\u001b[39m0\u001b[39;49m)\n\u001b[1;32m     20\u001b[0m df\u001b[39m.\u001b[39mhead\n",
      "File \u001b[0;32m~/opt/anaconda3/envs/sc1015-dsai/lib/python3.8/site-packages/pandas/util/_decorators.py:331\u001b[0m, in \u001b[0;36mdeprecate_nonkeyword_arguments.<locals>.decorate.<locals>.wrapper\u001b[0;34m(*args, **kwargs)\u001b[0m\n\u001b[1;32m    325\u001b[0m \u001b[39mif\u001b[39;00m \u001b[39mlen\u001b[39m(args) \u001b[39m>\u001b[39m num_allow_args:\n\u001b[1;32m    326\u001b[0m     warnings\u001b[39m.\u001b[39mwarn(\n\u001b[1;32m    327\u001b[0m         msg\u001b[39m.\u001b[39mformat(arguments\u001b[39m=\u001b[39m_format_argument_list(allow_args)),\n\u001b[1;32m    328\u001b[0m         \u001b[39mFutureWarning\u001b[39;00m,\n\u001b[1;32m    329\u001b[0m         stacklevel\u001b[39m=\u001b[39mfind_stack_level(),\n\u001b[1;32m    330\u001b[0m     )\n\u001b[0;32m--> 331\u001b[0m \u001b[39mreturn\u001b[39;00m func(\u001b[39m*\u001b[39;49margs, \u001b[39m*\u001b[39;49m\u001b[39m*\u001b[39;49mkwargs)\n",
      "File \u001b[0;32m~/opt/anaconda3/envs/sc1015-dsai/lib/python3.8/site-packages/pandas/core/reshape/concat.py:381\u001b[0m, in \u001b[0;36mconcat\u001b[0;34m(objs, axis, join, ignore_index, keys, levels, names, verify_integrity, sort, copy)\u001b[0m\n\u001b[1;32m    159\u001b[0m \u001b[39m\u001b[39m\u001b[39m\"\"\"\u001b[39;00m\n\u001b[1;32m    160\u001b[0m \u001b[39mConcatenate pandas objects along a particular axis.\u001b[39;00m\n\u001b[1;32m    161\u001b[0m \n\u001b[0;32m   (...)\u001b[0m\n\u001b[1;32m    366\u001b[0m \u001b[39m1   3   4\u001b[39;00m\n\u001b[1;32m    367\u001b[0m \u001b[39m\"\"\"\u001b[39;00m\n\u001b[1;32m    368\u001b[0m op \u001b[39m=\u001b[39m _Concatenator(\n\u001b[1;32m    369\u001b[0m     objs,\n\u001b[1;32m    370\u001b[0m     axis\u001b[39m=\u001b[39maxis,\n\u001b[0;32m   (...)\u001b[0m\n\u001b[1;32m    378\u001b[0m     sort\u001b[39m=\u001b[39msort,\n\u001b[1;32m    379\u001b[0m )\n\u001b[0;32m--> 381\u001b[0m \u001b[39mreturn\u001b[39;00m op\u001b[39m.\u001b[39;49mget_result()\n",
      "File \u001b[0;32m~/opt/anaconda3/envs/sc1015-dsai/lib/python3.8/site-packages/pandas/core/reshape/concat.py:616\u001b[0m, in \u001b[0;36m_Concatenator.get_result\u001b[0;34m(self)\u001b[0m\n\u001b[1;32m    612\u001b[0m             indexers[ax] \u001b[39m=\u001b[39m obj_labels\u001b[39m.\u001b[39mget_indexer(new_labels)\n\u001b[1;32m    614\u001b[0m     mgrs_indexers\u001b[39m.\u001b[39mappend((obj\u001b[39m.\u001b[39m_mgr, indexers))\n\u001b[0;32m--> 616\u001b[0m new_data \u001b[39m=\u001b[39m concatenate_managers(\n\u001b[1;32m    617\u001b[0m     mgrs_indexers, \u001b[39mself\u001b[39;49m\u001b[39m.\u001b[39;49mnew_axes, concat_axis\u001b[39m=\u001b[39;49m\u001b[39mself\u001b[39;49m\u001b[39m.\u001b[39;49mbm_axis, copy\u001b[39m=\u001b[39;49m\u001b[39mself\u001b[39;49m\u001b[39m.\u001b[39;49mcopy\n\u001b[1;32m    618\u001b[0m )\n\u001b[1;32m    619\u001b[0m \u001b[39mif\u001b[39;00m \u001b[39mnot\u001b[39;00m \u001b[39mself\u001b[39m\u001b[39m.\u001b[39mcopy:\n\u001b[1;32m    620\u001b[0m     new_data\u001b[39m.\u001b[39m_consolidate_inplace()\n",
      "File \u001b[0;32m~/opt/anaconda3/envs/sc1015-dsai/lib/python3.8/site-packages/pandas/core/internals/concat.py:233\u001b[0m, in \u001b[0;36mconcatenate_managers\u001b[0;34m(mgrs_indexers, axes, concat_axis, copy)\u001b[0m\n\u001b[1;32m    231\u001b[0m     fastpath \u001b[39m=\u001b[39m blk\u001b[39m.\u001b[39mvalues\u001b[39m.\u001b[39mdtype \u001b[39m==\u001b[39m values\u001b[39m.\u001b[39mdtype\n\u001b[1;32m    232\u001b[0m \u001b[39melse\u001b[39;00m:\n\u001b[0;32m--> 233\u001b[0m     values \u001b[39m=\u001b[39m _concatenate_join_units(join_units, concat_axis, copy\u001b[39m=\u001b[39;49mcopy)\n\u001b[1;32m    234\u001b[0m     fastpath \u001b[39m=\u001b[39m \u001b[39mFalse\u001b[39;00m\n\u001b[1;32m    236\u001b[0m \u001b[39mif\u001b[39;00m fastpath:\n",
      "File \u001b[0;32m~/opt/anaconda3/envs/sc1015-dsai/lib/python3.8/site-packages/pandas/core/internals/concat.py:537\u001b[0m, in \u001b[0;36m_concatenate_join_units\u001b[0;34m(join_units, concat_axis, copy)\u001b[0m\n\u001b[1;32m    533\u001b[0m \u001b[39mif\u001b[39;00m concat_axis \u001b[39m==\u001b[39m \u001b[39m0\u001b[39m \u001b[39mand\u001b[39;00m \u001b[39mlen\u001b[39m(join_units) \u001b[39m>\u001b[39m \u001b[39m1\u001b[39m:\n\u001b[1;32m    534\u001b[0m     \u001b[39m# Concatenating join units along ax0 is handled in _merge_blocks.\u001b[39;00m\n\u001b[1;32m    535\u001b[0m     \u001b[39mraise\u001b[39;00m \u001b[39mAssertionError\u001b[39;00m(\u001b[39m\"\u001b[39m\u001b[39mConcatenating join units along axis0\u001b[39m\u001b[39m\"\u001b[39m)\n\u001b[0;32m--> 537\u001b[0m empty_dtype \u001b[39m=\u001b[39m _get_empty_dtype(join_units)\n\u001b[1;32m    539\u001b[0m has_none_blocks \u001b[39m=\u001b[39m \u001b[39many\u001b[39m(unit\u001b[39m.\u001b[39mblock\u001b[39m.\u001b[39mdtype\u001b[39m.\u001b[39mkind \u001b[39m==\u001b[39m \u001b[39m\"\u001b[39m\u001b[39mV\u001b[39m\u001b[39m\"\u001b[39m \u001b[39mfor\u001b[39;00m unit \u001b[39min\u001b[39;00m join_units)\n\u001b[1;32m    540\u001b[0m upcasted_na \u001b[39m=\u001b[39m _dtype_to_na_value(empty_dtype, has_none_blocks)\n",
      "File \u001b[0;32m~/opt/anaconda3/envs/sc1015-dsai/lib/python3.8/site-packages/pandas/core/internals/concat.py:629\u001b[0m, in \u001b[0;36m_get_empty_dtype\u001b[0;34m(join_units)\u001b[0m\n\u001b[1;32m    626\u001b[0m \u001b[39mif\u001b[39;00m \u001b[39mnot\u001b[39;00m \u001b[39mlen\u001b[39m(dtypes):\n\u001b[1;32m    627\u001b[0m     dtypes \u001b[39m=\u001b[39m [unit\u001b[39m.\u001b[39mdtype \u001b[39mfor\u001b[39;00m unit \u001b[39min\u001b[39;00m join_units \u001b[39mif\u001b[39;00m unit\u001b[39m.\u001b[39mblock\u001b[39m.\u001b[39mdtype\u001b[39m.\u001b[39mkind \u001b[39m!=\u001b[39m \u001b[39m\"\u001b[39m\u001b[39mV\u001b[39m\u001b[39m\"\u001b[39m]\n\u001b[0;32m--> 629\u001b[0m dtype \u001b[39m=\u001b[39m find_common_type(dtypes)\n\u001b[1;32m    630\u001b[0m \u001b[39mif\u001b[39;00m has_none_blocks:\n\u001b[1;32m    631\u001b[0m     dtype \u001b[39m=\u001b[39m ensure_dtype_can_hold_na(dtype)\n",
      "File \u001b[0;32m~/opt/anaconda3/envs/sc1015-dsai/lib/python3.8/site-packages/pandas/core/dtypes/cast.py:1607\u001b[0m, in \u001b[0;36mfind_common_type\u001b[0;34m(types)\u001b[0m\n\u001b[1;32m   1590\u001b[0m \u001b[39m\u001b[39m\u001b[39m\"\"\"\u001b[39;00m\n\u001b[1;32m   1591\u001b[0m \u001b[39mFind a common data type among the given dtypes.\u001b[39;00m\n\u001b[1;32m   1592\u001b[0m \n\u001b[0;32m   (...)\u001b[0m\n\u001b[1;32m   1604\u001b[0m \n\u001b[1;32m   1605\u001b[0m \u001b[39m\"\"\"\u001b[39;00m\n\u001b[1;32m   1606\u001b[0m \u001b[39mif\u001b[39;00m \u001b[39mnot\u001b[39;00m types:\n\u001b[0;32m-> 1607\u001b[0m     \u001b[39mraise\u001b[39;00m \u001b[39mValueError\u001b[39;00m(\u001b[39m\"\u001b[39m\u001b[39mno types given\u001b[39m\u001b[39m\"\u001b[39m)\n\u001b[1;32m   1609\u001b[0m first \u001b[39m=\u001b[39m types[\u001b[39m0\u001b[39m]\n\u001b[1;32m   1611\u001b[0m \u001b[39m# workaround for find_common_type([np.dtype('datetime64[ns]')] * 2)\u001b[39;00m\n\u001b[1;32m   1612\u001b[0m \u001b[39m# => object\u001b[39;00m\n",
      "\u001b[0;31mValueError\u001b[0m: no types given"
     ]
    }
   ],
   "source": [
    "ticker = \"AAPL\"\n",
    "\n",
    "# List Aggregates (Bars)\n",
    "bars = client.get_aggs(ticker=ticker, multiplier=1, timespan=\"day\", from_=\"2022-01-09\", to=\"2023-01-10\")\n",
    "\n",
    "df = pd.DataFrame(columns=[['open','high','low','close','volume','vwap', 'date', 'transactions']])\n",
    "for bar in bars:\n",
    "    agg = {\n",
    "        'open': bar.open,\n",
    "        'high': bar.high,\n",
    "        'low': bar.low,\n",
    "        'close': bar.close,\n",
    "        'volume': bar.volume,\n",
    "        'vwap': bar.vwap,\n",
    "        'date': datetime.datetime.fromtimestamp(bar.timestamp / 1000).strftime('%d-%m-%Y%H:%M'),\n",
    "        'transactions': bar.transactions\n",
    "    }\n",
    "    pd.concat([df, pd.DataFrame([agg])], axis=0)\n",
    "\n",
    "df.head"
   ]
  },
  {
   "cell_type": "code",
   "execution_count": null,
   "metadata": {},
   "outputs": [],
   "source": []
  }
 ],
 "metadata": {
  "kernelspec": {
   "display_name": "sc1015-dsai",
   "language": "python",
   "name": "python3"
  },
  "language_info": {
   "codemirror_mode": {
    "name": "ipython",
    "version": 3
   },
   "file_extension": ".py",
   "mimetype": "text/x-python",
   "name": "python",
   "nbconvert_exporter": "python",
   "pygments_lexer": "ipython3",
   "version": "3.8.16"
  },
  "orig_nbformat": 4,
  "vscode": {
   "interpreter": {
    "hash": "75e6a3091bbfaabee84dd10812a4284d7e5fae535ceb1b43d9376a3e437cd808"
   }
  }
 },
 "nbformat": 4,
 "nbformat_minor": 2
}
