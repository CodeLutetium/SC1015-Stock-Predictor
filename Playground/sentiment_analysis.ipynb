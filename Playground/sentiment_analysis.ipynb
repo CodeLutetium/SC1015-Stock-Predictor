{
 "cells": [
  {
   "cell_type": "code",
   "execution_count": 1,
   "metadata": {},
   "outputs": [],
   "source": [
    "import numpy as np\n",
    "import pandas as pd\n",
    "import matplotlib.pyplot as plt\n",
    "import matplotlib.dates as mdates\n",
    "import datetime as dt\n",
    "import plotly.graph_objects as go\n",
    "import seaborn as sb\n",
    "sb.set()\n",
    "\n",
    "import requests\n",
    "import constants as c"
   ]
  }
 ],
 "metadata": {
  "kernelspec": {
   "display_name": "venv",
   "language": "python",
   "name": "python3"
  },
  "language_info": {
   "codemirror_mode": {
    "name": "ipython",
    "version": 3
   },
   "file_extension": ".py",
   "mimetype": "text/x-python",
   "name": "python",
   "nbconvert_exporter": "python",
   "pygments_lexer": "ipython3",
   "version": "3.10.5"
  },
  "orig_nbformat": 4,
  "vscode": {
   "interpreter": {
    "hash": "7ff921c8d09dacfab997275e01340f6c940e9fa9c3d2cdd134aae7fa99c502e9"
   }
  }
 },
 "nbformat": 4,
 "nbformat_minor": 2
}
