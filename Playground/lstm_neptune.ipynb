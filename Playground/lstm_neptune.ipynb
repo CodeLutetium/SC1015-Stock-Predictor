{
 "cells": [
  {
   "attachments": {},
   "cell_type": "markdown",
   "metadata": {},
   "source": [
    "# Stock price prediction using Neptune AI guide\n",
    "## Dataset analysis\n",
    "Data is obtained from March 2022 to March 2023\n",
    "Train set: 01 March 2022 - 31 Dec 2022\n",
    "Test set: 1 Jan 2023 - 28 Feb 2023\n"
   ]
  },
  {
   "cell_type": "code",
   "execution_count": 1,
   "metadata": {},
   "outputs": [],
   "source": [
    "import requests\n",
    "import constants as c\n",
    "import pandas as pd\n"
   ]
  },
  {
   "cell_type": "code",
   "execution_count": 2,
   "metadata": {},
   "outputs": [],
   "source": [
    "\n",
    "# Pull data from api endpoint and store in pd dataframe\n",
    "url = 'https://www.alphavantage.co/query?function=TIME_SERIES_DAILY_ADJUSTED&symbol=AAPL&outputsize=full&apikey=' + c.ALPHA_APIKEY\n",
    "r = requests.get(url)\n",
    "data = r.json()\n",
    "\n",
    "# Load in pd dataframe\n",
    "df = pd.DataFrame.from_dict(data['Time Series (Daily)'], orient='index')\n",
    "# Convert index to time series\n",
    "df.index = pd.to_datetime(df.index)\n",
    "\n",
    "# Remove data before 2022\n",
    "df = df.drop(df[df.index < pd.Timestamp('2022-01-01')].index)\n"
   ]
  },
  {
   "attachments": {},
   "cell_type": "markdown",
   "metadata": {},
   "source": [
    "** Work to improve on for above cell: Some time data (eg. 1 Jan 2022) is missing"
   ]
  },
  {
   "cell_type": "code",
   "execution_count": 3,
   "metadata": {},
   "outputs": [],
   "source": [
    "# Create train test split\n",
    "train_ratio = 0.8\n",
    "train_size = int(train_ratio * len(df))\n",
    "\n",
    "# Oldest 80% of data: train set\n",
    "# Newest 20% of data: test set\n",
    "train = df[:train_size]\n",
    "test = df[train_size:]\n",
    "\n",
    "# Get only the date and the close values\n",
    "train = train[['4. close']]\n",
    "test = test[['4. close']]"
   ]
  },
  {
   "cell_type": "code",
   "execution_count": 7,
   "metadata": {},
   "outputs": [
    {
     "name": "stdout",
     "output_type": "stream",
     "text": [
      "https://app.neptune.ai/codelutetium/StockPrediction/e/STOC-4\n"
     ]
    },
    {
     "ename": "NameError",
     "evalue": "name 'plot_stock_trend' is not defined",
     "output_type": "error",
     "traceback": [
      "\u001b[0;31m---------------------------------------------------------------------------\u001b[0m",
      "\u001b[0;31mNameError\u001b[0m                                 Traceback (most recent call last)",
      "Cell \u001b[0;32mIn[7], line 13\u001b[0m\n\u001b[1;32m     10\u001b[0m window_var \u001b[39m=\u001b[39m \u001b[39mstr\u001b[39m(window_size) \u001b[39m+\u001b[39m \u001b[39m'\u001b[39m\u001b[39mday\u001b[39m\u001b[39m'\u001b[39m\n\u001b[1;32m     12\u001b[0m stockprices \u001b[39m=\u001b[39m df[\u001b[39m'\u001b[39m\u001b[39m4. close\u001b[39m\u001b[39m'\u001b[39m]\u001b[39m.\u001b[39mrolling(window_size)\u001b[39m.\u001b[39mmean()\n\u001b[0;32m---> 13\u001b[0m plot_stock_trend(var\u001b[39m=\u001b[39mwindow_var, cur_title\u001b[39m=\u001b[39m\u001b[39m'\u001b[39m\u001b[39mSimple Moving Averages\u001b[39m\u001b[39m'\u001b[39m, logmodelName\u001b[39m=\u001b[39m\u001b[39m'\u001b[39m\u001b[39mSimple MA\u001b[39m\u001b[39m'\u001b[39m)\n\u001b[1;32m     14\u001b[0m rmse_sma, mape_sma \u001b[39m=\u001b[39m calculate_perf_metrics(var\u001b[39m=\u001b[39mwindow_var, logmodelName\u001b[39m=\u001b[39m\u001b[39m'\u001b[39m\u001b[39mSimple MA\u001b[39m\u001b[39m'\u001b[39m)\n\u001b[1;32m     15\u001b[0m run\u001b[39m.\u001b[39mstop()\n",
      "\u001b[0;31mNameError\u001b[0m: name 'plot_stock_trend' is not defined"
     ]
    }
   ],
   "source": [
    "import neptune\n",
    "\n",
    "# Create neptune experiment\n",
    "run = neptune.init_run(\n",
    "    project=\"codelutetium/StockPrediction\",\n",
    "    api_token=c.NEPTUNE_API_TOKEN,\n",
    ") \n",
    "\n",
    "window_size = 50\n",
    "window_var = str(window_size) + 'day'\n",
    "\n",
    "stockprices = df['4. close'].rolling(window_size).mean()\n",
    "plot_stock_trend(var=window_var, cur_title='Simple Moving Averages', logmodelName='Simple MA')\n",
    "rmse_sma, mape_sma = calculate_perf_metrics(var=window_var, logmodelName='Simple MA')\n",
    "run.stop()"
   ]
  },
  {
   "cell_type": "code",
   "execution_count": null,
   "metadata": {},
   "outputs": [],
   "source": []
  }
 ],
 "metadata": {
  "kernelspec": {
   "display_name": "sc1015-new",
   "language": "python",
   "name": "python3"
  },
  "language_info": {
   "codemirror_mode": {
    "name": "ipython",
    "version": 3
   },
   "file_extension": ".py",
   "mimetype": "text/x-python",
   "name": "python",
   "nbconvert_exporter": "python",
   "pygments_lexer": "ipython3",
   "version": "3.8.16"
  },
  "orig_nbformat": 4
 },
 "nbformat": 4,
 "nbformat_minor": 2
}
